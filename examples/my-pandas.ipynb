{
 "cells": [
  {
   "cell_type": "markdown",
   "metadata": {},
   "source": [
    "Pandas DataFrame 的功能：可用來儲存雙維度的資料。建立 DataFrame 方式有二：\n",
    " - 字典\n",
    " - 陣列\n",
    "\n",
    "使用字典(Dictionary)建立 DataFrame：\n",
    " - 鍵值(Key)就是Pandas DataFrame的欄位名稱；\n",
    " - 值(Value)則是該欄位的資料內容。\n",
    "\n",
    "使用陣列建立 DataFrame：則只能使用陣列索引，取用內含值。"
   ]
  },
  {
   "cell_type": "code",
   "execution_count": 2,
   "metadata": {},
   "outputs": [
    {
     "name": "stdout",
     "output_type": "stream",
     "text": [
      "使用字典來建立df：\n",
      "     name  math  chinese\n",
      "0    Mike    80       63\n",
      "1  Sherry    75       90\n",
      "2   Cindy    93       85\n",
      "3    John    86       70\n",
      "=====================\n",
      "使用陣列來建立df：\n",
      "        0   1   2\n",
      "0    Mike  80  63\n",
      "1  Sherry  75  90\n",
      "2   Cindy  93  85\n",
      "3    John  86  70\n"
     ]
    }
   ],
   "source": [
    "import pandas as pd\n",
    " \n",
    "grades = {\n",
    "    \"name\": [\"Mike\", \"Sherry\", \"Cindy\", \"John\"],\n",
    "    \"math\": [80, 75, 93, 86],\n",
    "    \"chinese\": [63, 90, 85, 70]\n",
    "}\n",
    "df = pd.DataFrame(grades)\n",
    " \n",
    "print(\"使用字典來建立df：\")\n",
    "print(df)\n",
    " \n",
    "print(\"=====================\")\n",
    " \n",
    "grades = [\n",
    "    [\"Mike\", 80, 63],\n",
    "    [\"Sherry\", 75, 90],\n",
    "    [\"Cindy\", 93, 85],\n",
    "    [\"John\", 86, 70]\n",
    "]\n",
    "new_df = pd.DataFrame(grades)\n",
    " \n",
    "print(\"使用陣列來建立df：\")\n",
    "print(new_df)"
   ]
  },
  {
   "cell_type": "markdown",
   "metadata": {},
   "source": [
    "如果想要客製化Pandas DataFrame的資料索引及欄位名稱，可以分別利用index及columns屬性(Attribute)來達成"
   ]
  },
  {
   "cell_type": "code",
   "execution_count": 1,
   "metadata": {},
   "outputs": [
    {
     "name": "stdout",
     "output_type": "stream",
     "text": [
      "   student_name  math_score  chinese_score\n",
      "s1         Mike          80             63\n",
      "s2       Sherry          75             90\n",
      "s3        Cindy          93             85\n",
      "s4         John          86             70\n"
     ]
    }
   ],
   "source": [
    "import pandas as pd\n",
    "\n",
    "grades = {\n",
    "    \"name\": [\"Mike\", \"Sherry\", \"Cindy\", \"John\"],\n",
    "    \"math\": [80, 75, 93, 86],\n",
    "    \"chinese\": [63, 90, 85, 70],\n",
    "}\n",
    "\n",
    "df = pd.DataFrame(grades)\n",
    "df.index = [\"s1\", \"s2\", \"s3\", \"s4\"]\n",
    "df.columns = [\"student_name\", \"math_score\", \"chinese_score\"]\n",
    "print(df)"
   ]
  },
  {
   "cell_type": "markdown",
   "metadata": {},
   "source": [
    "# 取得Pandas DataFrame資料"
   ]
  },
  {
   "cell_type": "markdown",
   "metadata": {},
   "source": [
    "head()：取得最前面的n筆資料，並且會回傳一個新的Pandas DataFrame資料集\n",
    "\n"
   ]
  },
  {
   "cell_type": "code",
   "execution_count": 1,
   "metadata": {},
   "outputs": [
    {
     "name": "stdout",
     "output_type": "stream",
     "text": [
      "原來的df\n",
      "     name  math  chinese\n",
      "0    Mike    80       63\n",
      "1  Sherry    75       90\n",
      "2   Cindy    93       85\n",
      "3    John    86       70\n",
      "=================================\n",
      "取得最前面的兩筆資料\n",
      "     name  math  chinese\n",
      "0    Mike    80       63\n",
      "1  Sherry    75       90\n"
     ]
    }
   ],
   "source": [
    "import pandas as pd\n",
    " \n",
    "grades = {\n",
    "    \"name\": [\"Mike\", \"Sherry\", \"Cindy\", \"John\"],\n",
    "    \"math\": [80, 75, 93, 86],\n",
    "    \"chinese\": [63, 90, 85, 70]\n",
    "}\n",
    "df = pd.DataFrame(grades)\n",
    "print(\"原來的df\")\n",
    "print(df)\n",
    " \n",
    "print(\"=================================\")\n",
    " \n",
    "new_df = df.head(2)\n",
    "print(\"取得最前面的兩筆資料\")\n",
    "print(new_df)"
   ]
  },
  {
   "cell_type": "markdown",
   "metadata": {},
   "source": [
    "tail()：取得最後面的n筆資料，並且會回傳一個新的Pandas DataFrame資料集"
   ]
  },
  {
   "cell_type": "code",
   "execution_count": 2,
   "metadata": {},
   "outputs": [
    {
     "name": "stdout",
     "output_type": "stream",
     "text": [
      "原來的df\n",
      "     name  math  chinese\n",
      "0    Mike    80       63\n",
      "1  Sherry    75       90\n",
      "2   Cindy    93       85\n",
      "3    John    86       70\n",
      "=================================\n",
      "取得最後面的三筆資料\n",
      "     name  math  chinese\n",
      "1  Sherry    75       90\n",
      "2   Cindy    93       85\n",
      "3    John    86       70\n"
     ]
    }
   ],
   "source": [
    "import pandas as pd\n",
    " \n",
    "grades = {\n",
    "    \"name\": [\"Mike\", \"Sherry\", \"Cindy\", \"John\"],\n",
    "    \"math\": [80, 75, 93, 86],\n",
    "    \"chinese\": [63, 90, 85, 70]\n",
    "}\n",
    "df = pd.DataFrame(grades)\n",
    "print(\"原來的df\")\n",
    "print(df)\n",
    " \n",
    "print(\"=================================\")\n",
    " \n",
    "new_df = df.tail(3)\n",
    "print(\"取得最後面的三筆資料\")\n",
    "print(new_df)"
   ]
  },
  {
   "cell_type": "markdown",
   "metadata": {},
   "source": [
    "中括號[]：在中括號中指定「欄位名稱」或「資料索引值」，來取得所需的資料集"
   ]
  },
  {
   "cell_type": "code",
   "execution_count": 6,
   "metadata": {},
   "outputs": [],
   "source": [
    "import pandas as pd\n",
    " \n",
    "grades = {\n",
    "    \"name\": [\"Mike\", \"Sherry\", \"Cindy\", \"John\"],\n",
    "    \"math\": [80, 75, 93, 86],\n",
    "    \"chinese\": [63, 90, 85, 70]\n",
    "}"
   ]
  },
  {
   "cell_type": "code",
   "execution_count": 7,
   "metadata": {},
   "outputs": [
    {
     "name": "stdout",
     "output_type": "stream",
     "text": [
      "取得單一欄位資料(型別為DataFrame)\n",
      "     name\n",
      "0    Mike\n",
      "1  Sherry\n",
      "2   Cindy\n",
      "3    John\n"
     ]
    }
   ],
   "source": [
    "print(\"取得單一欄位資料(型別為DataFrame)\")\n",
    "print(df[[\"name\"]])"
   ]
  },
  {
   "cell_type": "code",
   "execution_count": 8,
   "metadata": {},
   "outputs": [
    {
     "name": "stdout",
     "output_type": "stream",
     "text": [
      "取得多欄位資料(型別為DataFrame)\n",
      "     name  chinese\n",
      "0    Mike       63\n",
      "1  Sherry       90\n",
      "2   Cindy       85\n",
      "3    John       70\n"
     ]
    }
   ],
   "source": [
    "print(\"取得多欄位資料(型別為DataFrame)\")\n",
    "print(df[[\"name\", \"chinese\"]])"
   ]
  },
  {
   "cell_type": "code",
   "execution_count": 9,
   "metadata": {},
   "outputs": [
    {
     "name": "stdout",
     "output_type": "stream",
     "text": [
      "取得索引值0~2的資料\n",
      "     name  math  chinese\n",
      "0    Mike    80       63\n",
      "1  Sherry    75       90\n",
      "2   Cindy    93       85\n"
     ]
    }
   ],
   "source": [
    "print(\"取得索引值0~2的資料\")\n",
    "print(df[0:3])"
   ]
  },
  {
   "cell_type": "markdown",
   "metadata": {},
   "source": [
    "at[資料索引值,欄位名稱]：利用資料索引值及欄位名稱來取得「單一值」"
   ]
  },
  {
   "cell_type": "code",
   "execution_count": 10,
   "metadata": {},
   "outputs": [
    {
     "name": "stdout",
     "output_type": "stream",
     "text": [
      "原來的df\n",
      "     name  math  chinese\n",
      "0    Mike    80       63\n",
      "1  Sherry    75       90\n",
      "2   Cindy    93       85\n",
      "3    John    86       70\n",
      "=================================\n",
      "利用at()方法取得索引值為1的math欄位資料\n",
      "75\n"
     ]
    }
   ],
   "source": [
    "print(\"原來的df\")\n",
    "print(df)\n",
    " \n",
    "print(\"=================================\")\n",
    " \n",
    "print(\"利用at()方法取得索引值為1的math欄位資料\")\n",
    "print(df.at[1, \"math\"])"
   ]
  },
  {
   "cell_type": "markdown",
   "metadata": {},
   "source": [
    "iat[資料索引值,欄位順序]：利用資料索引值及欄位順序來取得「單一值」"
   ]
  },
  {
   "cell_type": "code",
   "execution_count": 11,
   "metadata": {},
   "outputs": [
    {
     "name": "stdout",
     "output_type": "stream",
     "text": [
      "原來的df\n",
      "     name  math  chinese\n",
      "0    Mike    80       63\n",
      "1  Sherry    75       90\n",
      "2   Cindy    93       85\n",
      "3    John    86       70\n",
      "=================================\n",
      "利用iat()方法取得索引值為1的第一個欄位資料\n",
      "Sherry\n"
     ]
    }
   ],
   "source": [
    "print(\"原來的df\")\n",
    "print(df)\n",
    " \n",
    "print(\"=================================\")\n",
    " \n",
    "print(\"利用iat()方法取得索引值為1的第一個欄位資料\")\n",
    "print(df.iat[1, 0])"
   ]
  },
  {
   "cell_type": "markdown",
   "metadata": {},
   "source": [
    "loc[資料索引值,欄位名稱]：利用資料索引值及欄位名稱來取得「資料集」"
   ]
  },
  {
   "cell_type": "code",
   "execution_count": 12,
   "metadata": {},
   "outputs": [
    {
     "name": "stdout",
     "output_type": "stream",
     "text": [
      "原來的df\n",
      "     name  math  chinese\n",
      "0    Mike    80       63\n",
      "1  Sherry    75       90\n",
      "2   Cindy    93       85\n",
      "3    John    86       70\n",
      "=================================\n",
      "取得資料索引值為1和3的name及chinese欄位資料集\n",
      "     name  chinese\n",
      "1  Sherry       90\n",
      "3    John       70\n"
     ]
    }
   ],
   "source": [
    "print(\"原來的df\")\n",
    "print(df)\n",
    " \n",
    "print(\"=================================\")\n",
    " \n",
    "print(\"取得資料索引值為1和3的name及chinese欄位資料集\")\n",
    "print(df.loc[[1, 3], [\"name\", \"chinese\"]])"
   ]
  },
  {
   "cell_type": "markdown",
   "metadata": {},
   "source": [
    "iloc[資料索引值,欄位順序]：利用資料索引值及欄位順序來取得「資料集」"
   ]
  },
  {
   "cell_type": "code",
   "execution_count": 13,
   "metadata": {},
   "outputs": [
    {
     "name": "stdout",
     "output_type": "stream",
     "text": [
      "原來的df\n",
      "     name  math  chinese\n",
      "0    Mike    80       63\n",
      "1  Sherry    75       90\n",
      "2   Cindy    93       85\n",
      "3    John    86       70\n",
      "=================================\n",
      "取得資料索引值為1和3的第一個及第三個欄位資料集\n",
      "     name  chinese\n",
      "1  Sherry       90\n",
      "3    John       70\n"
     ]
    }
   ],
   "source": [
    "print(\"原來的df\")\n",
    "print(df)\n",
    " \n",
    "print(\"=================================\")\n",
    " \n",
    "print(\"取得資料索引值為1和3的第一個及第三個欄位資料集\")\n",
    "print(df.iloc[[1, 3], [0, 2]])"
   ]
  },
  {
   "cell_type": "markdown",
   "metadata": {},
   "source": [
    "# 新增Pandas DataFrame資料"
   ]
  },
  {
   "cell_type": "code",
   "execution_count": 14,
   "metadata": {},
   "outputs": [],
   "source": [
    "import pandas as pd\n",
    " \n",
    "grades = {\n",
    "    \"name\": [\"Mike\", \"Sherry\", \"Cindy\", \"John\"],\n",
    "    \"math\": [80, 75, 93, 86],\n",
    "    \"chinese\": [63, 90, 85, 70]\n",
    "}\n",
    " "
   ]
  },
  {
   "cell_type": "markdown",
   "metadata": {},
   "source": [
    "insert()：在指定的欄位位置新增欄位資料"
   ]
  },
  {
   "cell_type": "code",
   "execution_count": 15,
   "metadata": {},
   "outputs": [
    {
     "name": "stdout",
     "output_type": "stream",
     "text": [
      "原來的df\n",
      "     name  math  chinese\n",
      "0    Mike    80       63\n",
      "1  Sherry    75       90\n",
      "2   Cindy    93       85\n",
      "3    John    86       70\n",
      "=================================\n",
      "在第三欄的地方新增一個欄位資料\n",
      "     name  math  engilsh  chinese\n",
      "0    Mike    80       88       63\n",
      "1  Sherry    75       72       90\n",
      "2   Cindy    93       74       85\n",
      "3    John    86       98       70\n"
     ]
    }
   ],
   "source": [
    "df = pd.DataFrame(grades)\n",
    "print(\"原來的df\")\n",
    "print(df)\n",
    " \n",
    "print(\"=================================\")\n",
    " \n",
    "df.insert(2, column=\"engilsh\", value=[88, 72, 74, 98])\n",
    "print(\"在第三欄的地方新增一個欄位資料\")\n",
    "print(df)"
   ]
  },
  {
   "cell_type": "markdown",
   "metadata": {},
   "source": [
    "append()：新增一筆或一列的資料，透過傳入字典(Dictionary)來指定各欄位的值，並且會回傳一個新的Pandas DataFrame資料集"
   ]
  },
  {
   "cell_type": "code",
   "execution_count": 20,
   "metadata": {},
   "outputs": [
    {
     "name": "stdout",
     "output_type": "stream",
     "text": [
      "原來的df\n",
      "     name  math  chinese\n",
      "0    Mike    80       63\n",
      "1  Sherry    75       90\n",
      "2   Cindy    93       85\n",
      "3    John    86       70\n",
      "=================================\n",
      "新增一筆資料\n",
      "     name  math  chinese\n",
      "0    Mike    80       63\n",
      "1  Sherry    75       90\n",
      "2   Cindy    93       85\n",
      "3    John    86       70\n",
      "4   Henry    60       62\n"
     ]
    },
    {
     "name": "stderr",
     "output_type": "stream",
     "text": [
      "/var/folders/36/6kwybs_92bj1_x96p67h7q8w0000gp/T/ipykernel_22720/2249785476.py:15: FutureWarning: The frame.append method is deprecated and will be removed from pandas in a future version. Use pandas.concat instead.\n",
      "  new_df = df.append({\n"
     ]
    }
   ],
   "source": [
    "import pandas as pd\n",
    " \n",
    "grades = {\n",
    "    \"name\": [\"Mike\", \"Sherry\", \"Cindy\", \"John\"],\n",
    "    \"math\": [80, 75, 93, 86],\n",
    "    \"chinese\": [63, 90, 85, 70]\n",
    "}\n",
    " \n",
    "df = pd.DataFrame(grades)\n",
    "print(\"原來的df\")\n",
    "print(df)\n",
    " \n",
    "print(\"=================================\")\n",
    " \n",
    "new_df = df.append({\n",
    "    \"name\": \"Henry\",\n",
    "    \"math\": 60,\n",
    "    \"chinese\": 62\n",
    "}, ignore_index=True)\n",
    " \n",
    "print(\"新增一筆資料\")\n",
    "print(new_df)"
   ]
  },
  {
   "cell_type": "markdown",
   "metadata": {},
   "source": [
    "concat()：利用合併多個Pandas DataFrame的方式來新增資料，並且會回傳一個新的Pandas DataFrame資料集"
   ]
  },
  {
   "cell_type": "code",
   "execution_count": 21,
   "metadata": {},
   "outputs": [
    {
     "name": "stdout",
     "output_type": "stream",
     "text": [
      "原來的df\n",
      "     name  math  chinese\n",
      "0    Mike    80       63\n",
      "1  Sherry    75       90\n",
      "2   Cindy    93       85\n",
      "3    John    86       70\n",
      "=================================\n",
      "合併df來新增資料\n",
      "     name  math  chinese\n",
      "0    Mike    80       63\n",
      "1  Sherry    75       90\n",
      "2   Cindy    93       85\n",
      "3    John    86       70\n",
      "4   Henry    60       62\n"
     ]
    }
   ],
   "source": [
    "import pandas as pd\n",
    " \n",
    "grades = {\n",
    "    \"name\": [\"Mike\", \"Sherry\", \"Cindy\", \"John\"],\n",
    "    \"math\": [80, 75, 93, 86],\n",
    "    \"chinese\": [63, 90, 85, 70]\n",
    "}\n",
    " \n",
    "df1 = pd.DataFrame(grades)\n",
    "print(\"原來的df\")\n",
    "print(df1)\n",
    " \n",
    "print(\"=================================\")\n",
    " \n",
    "df2 = pd.DataFrame({\n",
    "    \"name\": [\"Henry\"],\n",
    "    \"math\": [60],\n",
    "    \"chinese\": [62]\n",
    "})\n",
    " \n",
    "new_df = pd.concat([df1, df2], ignore_index=True)\n",
    "print(\"合併df來新增資料\")\n",
    "print(new_df)"
   ]
  },
  {
   "cell_type": "markdown",
   "metadata": {},
   "source": [
    "# 修改Pandas DataFrame資料"
   ]
  },
  {
   "cell_type": "markdown",
   "metadata": {},
   "source": [
    "利用Pandas DataFrame的at[]及iat[]取得所要修改的單一值後，來進行資料內容的修改\n"
   ]
  },
  {
   "cell_type": "code",
   "execution_count": 22,
   "metadata": {},
   "outputs": [
    {
     "name": "stdout",
     "output_type": "stream",
     "text": [
      "原來的df\n",
      "     name  math  chinese\n",
      "0    Mike    80       63\n",
      "1  Sherry    75       90\n",
      "2   Cindy    93       85\n",
      "3    John    86       70\n",
      "=================================\n",
      "修改後的df\n",
      "    name  math  chinese\n",
      "0   Mike    80       63\n",
      "1  Larry   100       90\n",
      "2  Cindy    93       85\n",
      "3   John    86       70\n"
     ]
    }
   ],
   "source": [
    "import pandas as pd\n",
    " \n",
    "grades = {\n",
    "    \"name\": [\"Mike\", \"Sherry\", \"Cindy\", \"John\"],\n",
    "    \"math\": [80, 75, 93, 86],\n",
    "    \"chinese\": [63, 90, 85, 70]\n",
    "}\n",
    " \n",
    "df = pd.DataFrame(grades)\n",
    " \n",
    "print(\"原來的df\")\n",
    "print(df)\n",
    " \n",
    "print(\"=================================\")\n",
    " \n",
    "df.at[1, \"math\"] = 100  #修改索引值為1的math欄位資料\n",
    "df.iat[1, 0] = \"Larry\"  #修改索引值為1的第一個欄位資料\n",
    "print(\"修改後的df\")\n",
    "print(df)"
   ]
  },
  {
   "cell_type": "markdown",
   "metadata": {},
   "source": [
    "# 刪除Pandas DataFrame資料"
   ]
  },
  {
   "cell_type": "markdown",
   "metadata": {},
   "source": [
    "drop(欄位名稱串列,axis=1)：刪除指定欄位名稱的欄位，並且會回傳一個新的Pandas DataFrame資料集"
   ]
  },
  {
   "cell_type": "code",
   "execution_count": 23,
   "metadata": {},
   "outputs": [
    {
     "name": "stdout",
     "output_type": "stream",
     "text": [
      "原來的df\n",
      "     name  math  chinese\n",
      "0    Mike    80       63\n",
      "1  Sherry    75       90\n",
      "2   Cindy    93       85\n",
      "3    John    86       70\n",
      "=================================\n",
      "刪除math欄位\n",
      "     name  chinese\n",
      "0    Mike       63\n",
      "1  Sherry       90\n",
      "2   Cindy       85\n",
      "3    John       70\n"
     ]
    }
   ],
   "source": [
    "import pandas as pd\n",
    " \n",
    "grades = {\n",
    "    \"name\": [\"Mike\", \"Sherry\", \"Cindy\", \"John\"],\n",
    "    \"math\": [80, 75, 93, 86],\n",
    "    \"chinese\": [63, 90, 85, 70]\n",
    "}\n",
    " \n",
    "df = pd.DataFrame(grades)\n",
    "print(\"原來的df\")\n",
    "print(df)\n",
    " \n",
    "print(\"=================================\")\n",
    " \n",
    "new_df = df.drop([\"math\"], axis=1)\n",
    "print(\"刪除math欄位\")\n",
    "print(new_df)"
   ]
  },
  {
   "cell_type": "markdown",
   "metadata": {},
   "source": [
    "drop(資料索引串列,axis=0)：刪除指定資料索引的資料，並且會回傳一個新的Pandas DataFrame資料集"
   ]
  },
  {
   "cell_type": "code",
   "execution_count": 25,
   "metadata": {},
   "outputs": [
    {
     "name": "stdout",
     "output_type": "stream",
     "text": [
      "原來的df\n",
      "     name  math  chinese\n",
      "0    Mike    80       63\n",
      "1  Sherry    75       90\n",
      "2   Cindy    93       85\n",
      "3    John    86       70\n",
      "=================================\n",
      "刪除第一筆及第四筆資料\n",
      "     name  math  chinese\n",
      "1  Sherry    75       90\n",
      "2   Cindy    93       85\n"
     ]
    }
   ],
   "source": [
    "import pandas as pd\n",
    " \n",
    "grades = {\n",
    "    \"name\": [\"Mike\", \"Sherry\", \"Cindy\", \"John\"],\n",
    "    \"math\": [80, 75, 93, 86],\n",
    "    \"chinese\": [63, 90, 85, 70]\n",
    "}\n",
    " \n",
    "df = pd.DataFrame(grades)\n",
    "print(\"原來的df\")\n",
    "print(df)\n",
    " \n",
    "print(\"=================================\")\n",
    " \n",
    "new_df = df.drop([0, 3], axis=0)  # 刪除第一筆及第四筆資料\n",
    "print(\"刪除第一筆及第四筆資料\")\n",
    "print(new_df)"
   ]
  },
  {
   "cell_type": "markdown",
   "metadata": {},
   "source": [
    "dropna()：刪除含有NaN或空值的資料，並且會回傳一個新的Pandas DataFrame資料集"
   ]
  },
  {
   "cell_type": "code",
   "execution_count": 28,
   "metadata": {},
   "outputs": [
    {
     "name": "stdout",
     "output_type": "stream",
     "text": [
      "原來的df\n",
      "     name       city  math  chinese\n",
      "0    Mike     Taipei    80       63\n",
      "1  Sherry        NaN    75       90\n",
      "2     NaN  Kaohsiung    93       85\n",
      "3    John   Taichung    86       70\n",
      "======================================\n",
      "刪除空值後的df\n",
      "   name      city  math  chinese\n",
      "0  Mike    Taipei    80       63\n",
      "3  John  Taichung    86       70\n"
     ]
    }
   ],
   "source": [
    "import pandas as pd\n",
    "import numpy as np\n",
    " \n",
    "grades = {\n",
    "    \"name\": [\"Mike\", \"Sherry\", np.NaN, \"John\"],\n",
    "    \"city\": [\"Taipei\", np.NaN, \"Kaohsiung\", \"Taichung\"],\n",
    "    \"math\": [80, 75, 93, 86],\n",
    "    \"chinese\": [63, 90, 85, 70]\n",
    "}\n",
    " \n",
    "df = pd.DataFrame(grades)\n",
    "print(\"原來的df\")\n",
    "print(df)\n",
    " \n",
    "print(\"======================================\")\n",
    " \n",
    "new_df = df.dropna()\n",
    "print(\"刪除空值後的df\")\n",
    "print(new_df)"
   ]
  },
  {
   "cell_type": "markdown",
   "metadata": {},
   "source": [
    "drop_duplicates()：刪除重複的資料，並且會回傳一個新的Pandas DataFrame資料集"
   ]
  },
  {
   "cell_type": "code",
   "execution_count": 29,
   "metadata": {},
   "outputs": [
    {
     "name": "stdout",
     "output_type": "stream",
     "text": [
      "原來的df\n",
      "    name       city  math  chinese\n",
      "0   Mike     Taipei    80       80\n",
      "1   Mike     Taipei    80       80\n",
      "2  Cindy  Kaohsiung    93       93\n",
      "3   John   Taichung    86       86\n",
      "======================================\n",
      "刪除重複值後的df\n",
      "    name       city  math  chinese\n",
      "0   Mike     Taipei    80       80\n",
      "2  Cindy  Kaohsiung    93       93\n",
      "3   John   Taichung    86       86\n"
     ]
    }
   ],
   "source": [
    "import pandas as pd\n",
    " \n",
    "grades = {\n",
    "    \"name\": [\"Mike\", \"Mike\", \"Cindy\", \"John\"],\n",
    "    \"city\": [\"Taipei\", \"Taipei\", \"Kaohsiung\", \"Taichung\"],\n",
    "    \"math\": [80, 80, 93, 86],\n",
    "    \"chinese\": [80, 80, 93, 86]\n",
    "}\n",
    " \n",
    "df = pd.DataFrame(grades)\n",
    "print(\"原來的df\")\n",
    "print(df)\n",
    " \n",
    "print(\"======================================\")\n",
    " \n",
    "new_df = df.drop_duplicates()\n",
    "print(\"刪除重複值後的df\")\n",
    "print(new_df)"
   ]
  },
  {
   "cell_type": "markdown",
   "metadata": {},
   "source": [
    "# 篩選Pandas DataFrame資料"
   ]
  },
  {
   "cell_type": "markdown",
   "metadata": {},
   "source": [
    "利用中括號[]存取欄位來進行資料篩選"
   ]
  },
  {
   "cell_type": "code",
   "execution_count": 30,
   "metadata": {},
   "outputs": [
    {
     "name": "stdout",
     "output_type": "stream",
     "text": [
      "原來的df\n",
      "     name  math  chinese\n",
      "0    Mike    80       63\n",
      "1  Sherry    75       90\n",
      "2   Cindy    93       85\n",
      "3    John    86       70\n",
      "=================================\n",
      "篩選math大於80的資料集\n",
      "    name  math  chinese\n",
      "2  Cindy    93       85\n",
      "3   John    86       70\n"
     ]
    }
   ],
   "source": [
    "import pandas as pd\n",
    " \n",
    "grades = {\n",
    "    \"name\": [\"Mike\", \"Sherry\", \"Cindy\", \"John\"],\n",
    "    \"math\": [80, 75, 93, 86],\n",
    "    \"chinese\": [63, 90, 85, 70]\n",
    "}\n",
    "df = pd.DataFrame(grades)\n",
    " \n",
    "print(\"原來的df\")\n",
    "print(df)\n",
    "print(\"=================================\")\n",
    " \n",
    "print(\"篩選math大於80的資料集\")\n",
    "print(df[df[\"math\"] > 80])"
   ]
  },
  {
   "cell_type": "markdown",
   "metadata": {},
   "source": [
    "找出包含特定值的資料集，這時候可以利用Pandas DataFrame的isin()方法(Method)來達成"
   ]
  },
  {
   "cell_type": "code",
   "execution_count": 31,
   "metadata": {},
   "outputs": [
    {
     "name": "stdout",
     "output_type": "stream",
     "text": [
      "原來的df\n",
      "     name  math  chinese\n",
      "0    Mike    80       63\n",
      "1  Sherry    75       90\n",
      "2   Cindy    93       85\n",
      "3    John    86       70\n",
      "=================================\n",
      "篩選name欄位包含John的資料集\n",
      "   name  math  chinese\n",
      "3  John    86       70\n"
     ]
    }
   ],
   "source": [
    "import pandas as pd\n",
    " \n",
    "grades = {\n",
    "    \"name\": [\"Mike\", \"Sherry\", \"Cindy\", \"John\"],\n",
    "    \"math\": [80, 75, 93, 86],\n",
    "    \"chinese\": [63, 90, 85, 70]\n",
    "}\n",
    "df = pd.DataFrame(grades)\n",
    " \n",
    "print(\"原來的df\")\n",
    "print(df)\n",
    "print(\"=================================\")\n",
    " \n",
    "print(\"篩選name欄位包含John的資料集\")\n",
    "print(df[df[\"name\"].isin([\"John\"])])"
   ]
  },
  {
   "cell_type": "markdown",
   "metadata": {},
   "source": [
    "# 排序Pandas DataFrame資料"
   ]
  },
  {
   "cell_type": "code",
   "execution_count": null,
   "metadata": {},
   "outputs": [],
   "source": [
    "sort_index()：依照索引值來進行排序，並且會回傳一個新的Pandas DataFrame資料集"
   ]
  },
  {
   "cell_type": "code",
   "execution_count": 32,
   "metadata": {},
   "outputs": [
    {
     "name": "stdout",
     "output_type": "stream",
     "text": [
      "原來的df\n",
      "      name  math  chinese\n",
      "s3    Mike    80       63\n",
      "s1  Sherry    75       90\n",
      "s4   Cindy    93       85\n",
      "s2    John    86       70\n",
      "============================\n",
      "遞增排序\n",
      "      name  math  chinese\n",
      "s1  Sherry    75       90\n",
      "s2    John    86       70\n",
      "s3    Mike    80       63\n",
      "s4   Cindy    93       85\n",
      "============================\n",
      "遞減排序\n",
      "      name  math  chinese\n",
      "s4   Cindy    93       85\n",
      "s3    Mike    80       63\n",
      "s2    John    86       70\n",
      "s1  Sherry    75       90\n"
     ]
    }
   ],
   "source": [
    "import pandas as pd\n",
    " \n",
    "grades = {\n",
    "    \"name\": [\"Mike\", \"Sherry\", \"Cindy\", \"John\"],\n",
    "    \"math\": [80, 75, 93, 86],\n",
    "    \"chinese\": [63, 90, 85, 70]\n",
    "}\n",
    "df = pd.DataFrame(grades)\n",
    "df.index = [\"s3\", \"s1\", \"s4\", \"s2\"]  # 自訂資料索引值\n",
    " \n",
    "print(\"原來的df\")\n",
    "print(df)\n",
    "print(\"============================\")\n",
    " \n",
    "new_df = df.sort_index(ascending=True)\n",
    "print(\"遞增排序\")\n",
    "print(new_df)\n",
    "print(\"============================\")\n",
    " \n",
    "new_df = df.sort_index(ascending=False)\n",
    "print(\"遞減排序\")\n",
    "print(new_df)"
   ]
  },
  {
   "cell_type": "markdown",
   "metadata": {},
   "source": [
    "sort_values()：依照欄位內容來進行排序，並且會回傳一個新的Pandas DataFrame資料集"
   ]
  },
  {
   "cell_type": "code",
   "execution_count": null,
   "metadata": {},
   "outputs": [
    {
     "name": "stdout",
     "output_type": "stream",
     "text": [
      "un_list=['a', 'ann', 'ah', 'ahnn', 'ai', 'ainn', 'ak', 'am', 'an', 'ang', 'ap', 'at', 'au', 'auh', 'e', 'enn', 'eh', 'ehnn', 'ek', 'eng', 'i', 'inn', 'ia', 'iann', 'iah', 'iannh', 'iak', 'iam', 'ian', 'iang', 'iap', 'iat', 'iau', 'iaunn', 'iauh', 'ih', 'im', 'in', 'io', 'ioh', 'iok', 'iong', 'ip', 'it', 'iu', 'iunn', 'iunnh', 'm', 'mh', 'ng', 'ngh', 'o', 'onn', 'oo', 'oa', 'oann', 'oah', 'oai', 'oainn', 'oan', 'oang', 'oat', 'oe', 'oeh', 'oh', 'onnh', 'ok', 'om', 'ong', 'u', 'uh', 'ui', 'un', 'ut']\n",
      "idx = 7\n",
      "un_list[7] = am\n"
     ]
    }
   ],
   "source": [
    "import pandas as pd\n",
    "\n",
    "un_mu_dict = {\n",
    "    'un_code': [ 'a', 'ann', 'ah', 'ahnn', 'ai', 'ainn', 'ak', 'am', 'an', 'ang', 'ap', 'at', 'au', 'auh', 'e', 'enn', 'eh', 'ehnn', 'ek', 'eng', 'i', 'inn', 'ia', 'iann', 'iah', 'iannh', 'iak', 'iam', 'ian', 'iang', 'iap', 'iat', 'iau', 'iaunn', 'iauh', 'ih', 'im', 'in', 'io', 'ioh', 'iok', 'iong', 'ip', 'it', 'iu', 'iunn', 'iunnh', 'm', 'mh', 'ng', 'ngh', 'o', 'onn', 'oo', 'oa', 'oann', 'oah', 'oai', 'oainn', 'oan', 'oang', 'oat', 'oe', 'oeh', 'oh', 'onnh', 'ok', 'om', 'ong', 'u', 'uh', 'ui', 'un', 'ut'], \n",
    "    'IPA': [ 'a', 'ã', 'a?', 'ã?', 'ai', 'ãĩ', 'ak̚', 'am', 'an', 'aŋ', 'ap̚', 'at̚', 'aʊ', 'au?', 'e', 'ẽ', 'e?', 'ẽ?', 'ik̚', 'ɪŋ', 'i', 'ĩ', 'ia', 'ĩã', 'ia?', 'iãh', 'iak̚', 'iam', 'ian', 'iaŋ', 'iap̚', 'iat̚', 'iaʊ', 'ĩãũ', 'iau?', 'i?', 'im', 'in', 'io', 'iə?', 'iɔk̚', 'iɔŋ', 'ip̚', 'it̚', 'iu', 'ĩũ', 'iũh', 'm̩', 'm̩h', 'ŋ̍', 'ŋ̍h', 'o', 'ɔ̃', 'ɔ', 'ua', 'ũã', 'ua?', 'uai', 'ũãĩ', 'uan', 'uaŋ', 'uat̚', 'ue', 'ue?', 'ə?', 'ɔ̃?', 'ɔk̚', 'ɔm', 'ɔŋ', 'u', 'u?', 'ui', 'un', 'ut̚'], \n",
    "    'sip_ngoo_im': [ '膠', '監', '膠', '監', '皆', '閒', '江', '甘', '干', '江', '甘', '干', '交', '交', '伽', '更', '伽', '更', '經', '經', '居', '梔', '迦', '驚', '迦', '驚', '姜', '兼', '堅', '姜', '兼', '堅', '嬌', '嘄', '嬌', '居', '金', '巾', '茄', '茄', '恭', '恭', '金', '巾', '丩', '牛', '牛', '姆', '姆', '鋼', '鋼', '高', '姑', '沽', '瓜', '官', '瓜', '乖', '閂', '觀', '光', '觀', '檜', '檜', '高', '姑', '公', '箴', '公', '艍', '艍', '規', '君', '君'], \n",
    "    'POJ': [ 'a', 'aⁿ', 'ah', 'ahⁿ', 'ai', 'aiⁿ', 'ak', 'am', 'an', 'ang', 'ap', 'at', 'au', 'auh', 'e', 'eⁿ', 'eh', 'ehⁿ', 'ek', 'eng', 'i', 'iⁿ', 'ia', 'iaⁿ', 'iah', 'iahⁿ', 'iak', 'iam', 'ian', 'iang', 'iap', 'iat', 'iau', 'iauⁿ', 'iauh', 'ih', 'im', 'in', 'io', 'ioh', 'iok', 'iong', 'ip', 'it', 'iu', 'iuⁿ', 'iuhⁿ', 'm', 'mh', 'ng', 'ngh', 'o', 'oⁿ', 'o͘', 'oa', 'oaⁿ', 'oah', 'oai', 'oaiⁿ', 'oan', 'oang', 'oat', 'oe', 'oeh', 'oh', 'ohⁿ', 'ok', 'om', 'ong', 'u', 'uh', 'ui', 'un', 'ut'], \n",
    "    'TL': [ 'a', 'ann', 'ah', 'annh', 'ai', 'ainn', 'ak', 'am', 'an', 'ang', 'ap', 'ap', 'au', 'auh', 'e', 'enn', 'eh', 'ennh', 'ik', 'ing', 'i', 'inn', 'ia', 'iann', 'iah', 'iannh', 'iak', 'iam', 'ian', 'iang', 'iap', 'iat', 'iau', 'iaunn', 'iauh', 'ih', 'im', 'in', 'io', 'ioh', 'iok', 'iong', 'ip', 'it', 'iu', 'iunn', 'iunnh', 'm', 'mh', 'ng', 'ngh', 'o', 'onn', 'oo', 'ua', 'uann', 'uah', 'uai', 'uainn', 'uan', 'uang', 'uat', 'ue', 'ueh', 'oh', 'onnh', 'ok', 'om', 'ong', 'u', 'uh', 'ui', 'un', 'ut'], \n",
    "    'BP': [ 'a', 'na', 'ah', 'nah', 'ai', 'nai', 'ak', 'am', 'an', 'ang', 'ap', 'at', 'ao', 'aoh', 'e', 'ne', 'eh', 'neh', 'ik', 'ing', 'i', 'ni', 'ia', 'nia', 'iah', 'niah', 'iak', 'iam', 'ian', 'iang', 'iap', 'iat', 'iao', 'niao', 'iaoh', 'ih', 'im', 'in', 'io', 'ioh', 'iok', 'iong', 'ip', 'it', 'iu', 'niu', 'niuh', 'm', 'mh', 'ng', 'ngh', 'o', 'noo', 'oo', 'ua', 'nua', 'uah', 'uai', 'nuai', 'uan', 'uang', 'uat', 'ue', 'ueh', 'oh', 'nooh', 'ok', 'om', 'ong', 'u', 'uh', 'ui', 'un', 'ut'], \n",
    "    'TPS': [ 'ㄚ', 'ㆩ', 'ㄚㆷ', 'ㆩㆷ', 'ㄞ', 'ㆮ', 'ㄚㆻ', 'ㆰ', 'ㄢ', 'ㄤ', 'ㄚㆴ', 'ㄚㆵ', 'ㄠ', 'ㄠㆷ', 'ㆤ', 'ㆥ', 'ㆤㆷ', 'ㆥㆷ', 'ㄧㆻ', 'ㄧㄥ', 'ㄧ', 'ㆪ', 'ㄧㄚ', 'ㄧㆩ', 'ㄧㄚㆷ', 'ㄧㆩㆷ', 'ㄧㄚㆻ', 'ㄧㆰ', 'ㄧㄢ', 'ㄧㄤ', 'ㄧㄚㆴ', 'ㄧㄚㆵ', 'ㄧㄠ', 'ㄧㆯ', 'ㄧㄠㆷ', 'ㄧㆷ', 'ㄧㆬ', 'ㄧㄣ', 'ㄧㄜ', 'ㄧㄜㆷ', 'ㄧㆦㆻ', 'ㄧㆲ', 'ㄧㆴ', 'ㄧㆵ', 'ㄧㄨ', 'ㄧㆫ', 'ㄧㆫㆷ', 'ㆬ', 'ㆬㆷ', 'ㆭ', 'ㆭㆷ', 'ㄜ', 'ㆧ', 'ㆦ', 'ㄨㄚ', 'ㄨㆩ', 'ㄨㄚㆷ', 'ㄨㄞ', 'ㄨㆮ', 'ㄨㄢ', 'ㄨㄤ', 'ㄨㄚㆵ', 'ㄨㆤ', 'ㄨㆤㆷ', 'ㄜㆷ', 'ㆧㆷ', 'ㆦㆻ', 'ㆱ', 'ㆲ', 'ㄨ', 'ㄨㆷ', 'ㄨㄧ', 'ㄨㄣ', 'ㄨㆵ'], \n",
    "}\n",
    "df_un_bu = pd.DataFrame(un_mu_dict)\n",
    "\n",
    "# 自 DataFrame 取出，欄標題名為：un_code 的部份，並將之轉換成 list\n",
    "un_list = df_un_bu[\"un_code\"].values.tolist()\n",
    "\n",
    "# 以 list 的「索引標籤」，找出「索引編號」 \n",
    "un = 'am'\n",
    "idx = un_list.index(un)\n",
    "\n",
    "print(f'un_list={un_list}')\n",
    "print(f'idx = {idx}')\n",
    "print(f'un_list[{idx}] = {un_list[idx]}')"
   ]
  },
  {
   "cell_type": "code",
   "execution_count": 29,
   "metadata": {},
   "outputs": [
    {
     "name": "stdout",
     "output_type": "stream",
     "text": [
      "siann_list=['b', 'ch', 'chh', 'g', 'h', 'j', 'k', 'kh', 'l', 'm', 'n', 'ng', 'p', 'ph', 's', 't', 'th']\n",
      "idx = 2\n",
      "siann_list[2] = chh\n"
     ]
    }
   ],
   "source": [
    "import pandas as pd\n",
    "\n",
    "siann_bu_dict = {\n",
    "    'siann_code': [ 'b', 'ch', 'chh', 'g', 'h', 'j', 'k', 'kh', 'l', 'm', 'n', 'ng', 'p', 'ph', 's', 't', 'th'], \n",
    "    'IPA': [ 'b', 'ʦ', 'ʦʰ', 'ɡ', 'h', 'ʣ', 'k', 'kʰ', 'l', 'm', 'n', 'ŋ', 'p', 'pʰ', 's', 't', 'tʰ'], \n",
    "    'sip_ngoo_im': [ '門', '曾', '出', '語', '喜', '入', '求', '去', '柳', '毛', '耐', '雅', '邊', '頗', '時', '地', '他'], \n",
    "    'POJ': [ 'b', 'ch', 'chh', 'g', 'h', 'j', 'k', 'kh', 'l', 'm', 'n', 'ng', 'p', 'ph', 's', 't', ' '], \n",
    "    'TL': [ 'b', 'ts', 'tsh', 'g', 'h', 'j', 'k', 'kh', 'l', 'm', 'n', 'ng', 'p', 'ph', 's', 't', 'th'], \n",
    "    'BP': [ 'bb', 'z', 'c', 'gg', 'h', 'zz', 'g', 'k', 'l', 'bbn', 'ln', 'ggn', 'b', 'p', 's', 'd', 't'], \n",
    "    'TPS': [ 'ㆠ', 'ㄗ', 'ㄘ', 'ㆣ', 'ㄏ', 'ㆡ', 'ㄍ', 'ㄎ', 'ㄌ', 'ㄇ', 'ㄋ', 'ㄫ', 'ㄅ', 'ㄆ', 'ㄙ', 'ㄉ', 'ㄊ'],     \n",
    "}\n",
    "df_siann_bu = pd.DataFrame(siann_bu_dict)\n",
    "\n",
    "# 自 DataFrame 取出，欄標題名為：siann_code 的部份，並將之轉換成 list\n",
    "siann_list = df_siann_bu[\"siann_code\"].values.tolist()\n",
    "\n",
    "# 以 list 的「索引標籤」，找出「索引編號」 \n",
    "siann = 'chh'\n",
    "idx = siann_list.index(siann)\n",
    "\n",
    "print(f'siann_list={siann_list}')\n",
    "print(f'idx = {idx}')\n",
    "print(f'siann_list[{idx}] = {siann_list[idx]}')\n"
   ]
  },
  {
   "cell_type": "code",
   "execution_count": 33,
   "metadata": {},
   "outputs": [
    {
     "name": "stdout",
     "output_type": "stream",
     "text": [
      "原來的df\n",
      "     name  math  chinese\n",
      "0    Mike    80       63\n",
      "1  Sherry    75       90\n",
      "2   Cindy    93       85\n",
      "3    John    86       70\n",
      "============================\n",
      "遞增排序\n",
      "     name  math  chinese\n",
      "1  Sherry    75       90\n",
      "0    Mike    80       63\n",
      "3    John    86       70\n",
      "2   Cindy    93       85\n",
      "============================\n",
      "遞減排序\n",
      "     name  math  chinese\n",
      "2   Cindy    93       85\n",
      "3    John    86       70\n",
      "0    Mike    80       63\n",
      "1  Sherry    75       90\n"
     ]
    }
   ],
   "source": [
    "import pandas as pd\n",
    " \n",
    "grades = {\n",
    "    \"name\": [\"Mike\", \"Sherry\", \"Cindy\", \"John\"],\n",
    "    \"math\": [80, 75, 93, 86],\n",
    "    \"chinese\": [63, 90, 85, 70]\n",
    "}\n",
    "df = pd.DataFrame(grades)\n",
    " \n",
    "print(\"原來的df\")\n",
    "print(df)\n",
    "print(\"============================\")\n",
    " \n",
    "new_df = df.sort_values([\"math\"], ascending=True)\n",
    "print(\"遞增排序\")\n",
    "print(new_df)\n",
    "print(\"============================\")\n",
    " \n",
    "new_df = df.sort_values([\"math\"], ascending=False)\n",
    "print(\"遞減排序\")\n",
    "print(new_df)"
   ]
  }
 ],
 "metadata": {
  "kernelspec": {
   "display_name": "Python 3.10.0 64-bit ('excel-3.10.0')",
   "language": "python",
   "name": "python3"
  },
  "language_info": {
   "codemirror_mode": {
    "name": "ipython",
    "version": 3
   },
   "file_extension": ".py",
   "mimetype": "text/x-python",
   "name": "python",
   "nbconvert_exporter": "python",
   "pygments_lexer": "ipython3",
   "version": "3.10.0"
  },
  "orig_nbformat": 4,
  "vscode": {
   "interpreter": {
    "hash": "1b569b8cb82cc0b4d93e64a81a8088d32bbb20998db3215c562e2469512179e8"
   }
  }
 },
 "nbformat": 4,
 "nbformat_minor": 2
}
