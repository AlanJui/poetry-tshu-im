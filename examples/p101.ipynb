{
 "cells": [
  {
   "cell_type": "code",
   "execution_count": 6,
   "metadata": {},
   "outputs": [],
   "source": [
    "#coding=utf-8\n",
    "import xlwings as xw\n",
    "import re\n",
    "import pandas as pd\n",
    "import psycopg2\n",
    "from modules.my_libs import han_ji_chu_im as ji\n",
    "\n",
    "#==========================================================\n",
    "# 資料庫\n",
    "#=========================================================\n",
    "conn = psycopg2.connect(database=\"alanjui\", user=\"alanjui\", host=\"127.0.0.1\", port=\"5432\")\n",
    "\n",
    "cur = conn.cursor()"
   ]
  },
  {
   "cell_type": "code",
   "execution_count": 8,
   "metadata": {},
   "outputs": [
    {
     "name": "stdout",
     "output_type": "stream",
     "text": [
      "chu_im = genn2\n"
     ]
    }
   ],
   "source": [
    "search_han_ji = '雅'\n",
    "\n",
    "query_str = f\"SELECT id, han_ji, chu_im, freq, siann, un, tiau FROM han_ji WHERE han_ji='{search_han_ji}'\"\n",
    "cur.execute(query_str)\n",
    "rows = cur.fetchall()\n",
    "\n",
    "chu_im = rows[0][2]\n",
    "print(f'chu_im = {chu_im}')\n"
   ]
  },
  {
   "cell_type": "code",
   "execution_count": 14,
   "metadata": {},
   "outputs": [
    {
     "name": "stdout",
     "output_type": "stream",
     "text": [
      "g\n",
      "enn\n",
      "2\n"
     ]
    }
   ],
   "source": [
    "#==========================================================\n",
    "# 自漢字的「注音碼」，分析出：聲母、韻母、調號\n",
    "#==========================================================\n",
    "result = ji.split_chu_im(chu_im)\n",
    "\n",
    "# siann_bu = siann_pattern.match(chu_im).group()\n",
    "siann_bu = result[0]\n",
    "un_bu = result[1]\n",
    "diau = result[2]\n"
   ]
  },
  {
   "cell_type": "code",
   "execution_count": 15,
   "metadata": {},
   "outputs": [
    {
     "name": "stdout",
     "output_type": "stream",
     "text": [
      "un_list[15] = enn\n"
     ]
    }
   ],
   "source": [
    "#==========================================================\n",
    "# 找韻母的「索引編號」\n",
    "#==========================================================\n",
    "un_idx = ji.get_un_idx(un_bu)"
   ]
  },
  {
   "cell_type": "code",
   "execution_count": 16,
   "metadata": {},
   "outputs": [
    {
     "name": "stdout",
     "output_type": "stream",
     "text": [
      "siann_list[3] = g\n"
     ]
    }
   ],
   "source": [
    "#==========================================================\n",
    "# 找聲母的「索引編號」\n",
    "#==========================================================\n",
    "siann_idx = ji.get_siann_idx(siann_bu)"
   ]
  },
  {
   "cell_type": "code",
   "execution_count": 17,
   "metadata": {},
   "outputs": [],
   "source": [
    "#==========================================================\n",
    "# 關閉資料庫\n",
    "#==========================================================\n",
    "conn.close()"
   ]
  }
 ],
 "metadata": {
  "kernelspec": {
   "display_name": "Python 3.10.0 64-bit ('excel-3.10.0')",
   "language": "python",
   "name": "python3"
  },
  "language_info": {
   "codemirror_mode": {
    "name": "ipython",
    "version": 3
   },
   "file_extension": ".py",
   "mimetype": "text/x-python",
   "name": "python",
   "nbconvert_exporter": "python",
   "pygments_lexer": "ipython3",
   "version": "3.10.0"
  },
  "orig_nbformat": 4,
  "vscode": {
   "interpreter": {
    "hash": "1b569b8cb82cc0b4d93e64a81a8088d32bbb20998db3215c562e2469512179e8"
   }
  }
 },
 "nbformat": 4,
 "nbformat_minor": 2
}
