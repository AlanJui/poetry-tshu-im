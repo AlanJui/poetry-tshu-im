{
 "cells": [
  {
   "cell_type": "code",
   "execution_count": 1,
   "id": "aed7c595-7eea-4bc3-968e-0013bef5be77",
   "metadata": {},
   "outputs": [],
   "source": [
    "import xlwings as xw\n",
    "wb = xw.Book()"
   ]
  },
  {
   "cell_type": "code",
   "execution_count": 5,
   "id": "1bca7b2f-6b30-4ee7-a12a-ee7e236dec61",
   "metadata": {},
   "outputs": [],
   "source": [
    "sheet = wb.sheets['工作表1']"
   ]
  },
  {
   "cell_type": "code",
   "execution_count": 6,
   "id": "1b9e8c58-4bd6-4dfa-918c-0a11e386978c",
   "metadata": {},
   "outputs": [],
   "source": [
    "sheet.range('A1').value = 'Foo 1'"
   ]
  },
  {
   "cell_type": "code",
   "execution_count": 7,
   "id": "33466595-9b03-402f-82cd-48e17ac7fad2",
   "metadata": {},
   "outputs": [],
   "source": [
    "sheet.range('A3').value = [['Foo 1', 'Foo 2', 'Foo 3'], [10.0, 20.0, 30.0]]"
   ]
  },
  {
   "cell_type": "code",
   "execution_count": 8,
   "id": "63fa7fe3-01ec-46e4-a12c-2dfebeb78512",
   "metadata": {},
   "outputs": [
    {
     "data": {
      "text/plain": [
       "[['Foo 1', 'Foo 2', 'Foo 3'], [10.0, 20.0, 30.0]]"
      ]
     },
     "execution_count": 8,
     "metadata": {},
     "output_type": "execute_result"
    }
   ],
   "source": [
    "sheet.range('A3').expand().value"
   ]
  },
  {
   "cell_type": "code",
   "execution_count": null,
   "id": "1b5975f1-8382-4fa6-9620-61fd58176b7f",
   "metadata": {},
   "outputs": [],
   "source": []
  }
 ],
 "metadata": {
  "kernelspec": {
   "display_name": "Python 3.10.0 64-bit ('3.10.0')",
   "language": "python",
   "name": "python3"
  },
  "language_info": {
   "codemirror_mode": {
    "name": "ipython",
    "version": 3
   },
   "file_extension": ".py",
   "mimetype": "text/x-python",
   "name": "python",
   "nbconvert_exporter": "python",
   "pygments_lexer": "ipython3",
   "version": "3.10.0"
  },
  "vscode": {
   "interpreter": {
    "hash": "aed03a03cc7bd0e1fac5ca7542eb87a27ea54681acd81ac1d32f22d2188a3fc2"
   }
  }
 },
 "nbformat": 4,
 "nbformat_minor": 5
}
