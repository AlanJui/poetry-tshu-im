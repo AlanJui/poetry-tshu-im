{
 "cells": [
  {
   "cell_type": "code",
   "execution_count": null,
   "id": "370ccca8-f7ce-4f1b-8ccd-b93e182115b3",
   "metadata": {},
   "outputs": [],
   "source": [
    "import re\n",
    "\n",
    "p = re.compile('555=(\\d+)')\n",
    "\n",
    "str = '555=1234567'\n",
    "ID = p.findall(str)\n",
    "print(p)\n",
    "print(ID)"
   ]
  },
  {
   "cell_type": "code",
   "execution_count": null,
   "id": "a7c2ead5-b7fa-4797-9292-576ec9361c4b",
   "metadata": {},
   "outputs": [],
   "source": [
    "line = '1. 昔時賢文，誨汝諄諄'\n",
    "for i in line:\n",
    "    print(i)\n"
   ]
  },
  {
   "cell_type": "code",
   "execution_count": null,
   "id": "0cbe41a7-5acc-4166-8fa2-666ee76ae995",
   "metadata": {},
   "outputs": [],
   "source": [
    "p = re.compile('(\\d+)[\\u4e00-\\u9fff]+')\n",
    "line = '1. 昔時賢文，誨汝諄諄'\n",
    "han_gi = p.findall(line)\n",
    "\n",
    "print(han_gi)\n"
   ]
  },
  {
   "cell_type": "code",
   "execution_count": null,
   "id": "630bf1ee-9e6a-478a-82e3-335eae1da42a",
   "metadata": {},
   "outputs": [],
   "source": [
    "str1 = 'ㄒㄧㄝㄍ- ㄒㄧˊ ㄏㄝㄣ+ ㄅ。ㄨㄣˊ'\n",
    "str2 = 'ㄏㄨㄝˋ ㄗ。ㄨˋ ㄉㄨㄣ+ ㄉㄨㄣ-'"
   ]
  },
  {
   "cell_type": "markdown",
   "id": "ac2b5f37-156e-49e9-8de1-a52103c872d4",
   "metadata": {},
   "source": [
    "The 4E00—9FFF range covers CJK Unified Ideographs (CJK=Chinese, Japanese and Korean). There are a number of lower ranges that relate, to some degree, to CJK:\n",
    "\n",
    " - 31C0—31EF CJK Strokes\n",
    " - 31F0—31FF Katakana Phonetic Extensions\n",
    " - 3200—32FF Enclosed CJK Letters and Months\n",
    " - 3300—33FF CJK Compatibility\n",
    " - 3400—4DBF CJK Unified Ideographs Extension A\n",
    " - 4DC0—4DFF Yijing Hexagram Symbols\n",
    " - 4E00—9FFF CJK Unified Ideographs \n",
    " \n",
    " [Python reg-expressions](https://www.runoob.com/python/python-reg-expressions.html)"
   ]
  },
  {
   "cell_type": "code",
   "execution_count": null,
   "id": "78f41842-14d3-4d63-84ec-e1e8f8eef44a",
   "metadata": {},
   "outputs": [],
   "source": [
    "sample = u'I am from 美国。We should be friends. 朋友。'\n",
    "for n in re.findall(r'[\\u4e00-\\u9fff]+', sample):\n",
    "    print(n)"
   ]
  },
  {
   "cell_type": "code",
   "execution_count": null,
   "id": "084d5b04-e2ed-4649-947b-ec7bece2180f",
   "metadata": {},
   "outputs": [],
   "source": [
    "line = '1. 昔時賢文，誨汝諄諄'\n",
    "han_regex = re.compile(r'[\\u3006\\u3007\\u4e00-\\u9fff\\u3400-\\u4dbf\\U00020000-\\U0002a6df\\U0002a700-\\U0002ebef\\U00030000-\\U0003134f]')\n",
    "is_han = lambda c: bool(han_regex.fullmatch(c))\n",
    "print([is_han(c) for c in line])"
   ]
  },
  {
   "cell_type": "code",
   "execution_count": null,
   "id": "2fd729da-2936-4500-86f0-0ac950736f33",
   "metadata": {},
   "outputs": [],
   "source": [
    "# 計算字串長度\n",
    "line = '1. 昔時賢文，誨汝諄諄'\n",
    "print(len(line))"
   ]
  },
  {
   "cell_type": "code",
   "execution_count": null,
   "id": "346b9838-a8a0-4dc6-b273-b1dcfe6a854d",
   "metadata": {},
   "outputs": [],
   "source": [
    "import re\n",
    "uri = 'www.bopomo.com'\n",
    "print(re.search('www', uri).span())  # 在起始位置匹配\n",
    "print(re.search('com', uri).span())  # 不在起始位置匹配"
   ]
  },
  {
   "cell_type": "code",
   "execution_count": null,
   "id": "9109240d-b214-4d81-ad6a-6fd8f0f8cb37",
   "metadata": {},
   "outputs": [],
   "source": [
    "import re\n",
    " \n",
    "line = \"Cats are smarter than dogs\";\n",
    " \n",
    "matchObj = re.match( r'dogs', line, re.M|re.I)\n",
    "if matchObj:\n",
    "   print(\"match --> matchObj.group() : \", matchObj.group())\n",
    "else:\n",
    "   print(\"No match!!\")\n",
    " \n",
    "matchObj = re.search( r'dogs', line, re.M|re.I)\n",
    "if matchObj:\n",
    "   print(\"search --> searchObj.group() : \", matchObj.group())\n",
    "else:\n",
    "   print(\"No match!!\")"
   ]
  },
  {
   "cell_type": "code",
   "execution_count": 1,
   "id": "4ba295c8-7e19-44da-a3e7-7eb7cfb7ab81",
   "metadata": {},
   "outputs": [
    {
     "name": "stdout",
     "output_type": "stream",
     "text": [
      "searchObj.group() :  Cats are smarter than dogs\n",
      "searchObj.group(1) :  Cats\n",
      "searchObj.group(2) :  smarter\n"
     ]
    }
   ],
   "source": [
    "import re\n",
    " \n",
    "line = \"Cats are smarter than dogs\";\n",
    " \n",
    "searchObj = re.search( r'(.*) are (.*?) .*', line, re.M|re.I)\n",
    " \n",
    "if searchObj:\n",
    "   print(\"searchObj.group() : \", searchObj.group())\n",
    "   print(\"searchObj.group(1) : \", searchObj.group(1))\n",
    "   print(\"searchObj.group(2) : \", searchObj.group(2))\n",
    "else:\n",
    "   print(\"Nothing found!!\")"
   ]
  },
  {
   "cell_type": "code",
   "execution_count": null,
   "id": "eaa89d3d-227b-48d7-a02f-b25797c2e74c",
   "metadata": {},
   "outputs": [],
   "source": [
    "import re\n",
    " \n",
    "phone = \"2004-959-559 # 这是一个国外电话号码\"\n",
    " \n",
    "# 删除字符串中的 Python注释 \n",
    "num = re.sub(r'#.*$', \"\", phone)\n",
    "print(f\"电话号码是: {num}\")\n",
    " \n",
    "# 删除非数字(-)的字符串 \n",
    "num = re.sub(r'\\D', \"\", phone)\n",
    "print(f\"电话号码是: {num}\")\n"
   ]
  },
  {
   "cell_type": "code",
   "execution_count": null,
   "id": "218e4856-a998-4e0a-a445-dcac5af9556b",
   "metadata": {},
   "outputs": [],
   "source": [
    "import re\n",
    "\n",
    "# 用于匹配至少一个数字\n",
    "pattern = re.compile(r'\\d+')     \n",
    "\n",
    "# 自開頭搜尋，没有匹配\n",
    "m = pattern.match('one12twothree34four')        \n",
    "print(m)\n",
    "\n",
    "# 自 'e' 字開始搜尋，没有匹配\n",
    "m = pattern.match('one12twothree34four', 2, 10)        \n",
    "print(m)\n",
    "\n",
    "# 自 '1' 字開始搜尋，可以匹配；傳回一個 Object\n",
    "m = pattern.match('one12twothree34four', 3, 10)        \n",
    "print(f'm = {m}')\n",
    "\n",
    "print(f'm.group(0) = {m.group(0)}')\n",
    "print(f'm.start(0) = {m.start(0)}')\n",
    "print(f'm.end(0) = {m.end(0)}')\n",
    "print(f'm.span(0) = {m.span(0)}')"
   ]
  },
  {
   "cell_type": "code",
   "execution_count": null,
   "id": "6a5129ed-4796-4bbc-8f1b-ce7ef7239a27",
   "metadata": {},
   "outputs": [],
   "source": [
    "import re\n",
    " \n",
    "pattern = re.compile(r'\\d+')   # 查找数字\n",
    "result1 = pattern.findall('runoob 123 google 456')\n",
    "result2 = pattern.findall('run88oob123google456', 0, 10)\n",
    " \n",
    "print(result1)\n",
    "print(result2)"
   ]
  },
  {
   "cell_type": "code",
   "execution_count": null,
   "id": "806fab74-9787-43b1-ad48-1e573ea8781d",
   "metadata": {},
   "outputs": [],
   "source": [
    "import re\n",
    " \n",
    "line = '1. 昔時賢文，誨汝諄諄';\n",
    " \n",
    "searchObj = re.search( r'(.*) (.*)', line, re.M|re.I)\n",
    " \n",
    "if searchObj:\n",
    "   print(\"searchObj.group() : \", searchObj.group())\n",
    "   print(\"searchObj.group(1) : \", searchObj.group(1))\n",
    "   print(\"searchObj.group(2) : \", searchObj.group(2))\n",
    "else:\n",
    "   print(\"Nothing found!!\")"
   ]
  },
  {
   "cell_type": "code",
   "execution_count": null,
   "id": "9c81deae-9a48-4dab-9e59-020c3b91ae3f",
   "metadata": {},
   "outputs": [],
   "source": [
    "# 1. 昔時賢文，誨汝諄諄\n",
    "# ㄒㄧㄝㄍ- ㄒㄧˊ ㄏㄝㄣ+ ㄅ。ㄨㄣˊ\n",
    "# ㄏㄨㄝˋ ㄗ。ㄨˋ ㄉㄨㄣ+ ㄉㄨㄣ-\n",
    "\n",
    "# 2. 集韻增廣，多見多聞 \n",
    "# ㄐㄧㄅˇ ㄨㄣ+ ㄐㄧㄝㄥ+ ㄍㄛㄥˋ\n",
    "# ㄉㄜ+ ㄍㄧㄝㄣˇ ㄉㄜ+ ㄅ。ㄨㄣˊ\n",
    "\n",
    "import re\n",
    "\n",
    "pattern = re.compile(r'[-+ˇˊˋ]')   # 查找数字\n",
    "\n",
    "#----------------------------------------------\n",
    "line1 = 'ㄒㄧㄝㄍ- ㄒㄧˊ ㄏㄝㄣ+ ㄅ。ㄨㄣˊ'\n",
    "line2 = 'ㄏㄨㄝˋ ㄗ。ㄨˋ ㄉㄨㄣ+ ㄉㄨㄣ-'\n",
    "\n",
    "result1 = pattern.split(line1)\n",
    "result2 = pattern.split(line2)\n",
    " \n",
    "print(result1)\n",
    "print(result2)\n",
    "\n",
    "#----------------------------------------------\n",
    "line3 = 'ㄐㄧㄅˇ ㄨㄣ+ ㄐㄧㄝㄥ+ ㄍㄛㄥˋ'\n",
    "line4 = 'ㄉㄜ+ ㄍㄧㄝㄣˇ ㄉㄜ+ ㄅ。ㄨㄣˊ'\n",
    "\n",
    "result3 = pattern.split(line3)\n",
    "result4 = pattern.split(line4)\n",
    "\n",
    "print(result3)\n",
    "print(result4)"
   ]
  },
  {
   "cell_type": "code",
   "execution_count": null,
   "id": "2d73b96a-e370-4f32-b4a5-d45185525a28",
   "metadata": {},
   "outputs": [],
   "source": []
  }
 ],
 "metadata": {
  "kernelspec": {
   "display_name": "Python 3.10.0 64-bit ('3.10.0')",
   "language": "python",
   "name": "python3"
  },
  "language_info": {
   "codemirror_mode": {
    "name": "ipython",
    "version": 3
   },
   "file_extension": ".py",
   "mimetype": "text/x-python",
   "name": "python",
   "nbconvert_exporter": "python",
   "pygments_lexer": "ipython3",
   "version": "3.10.0"
  },
  "vscode": {
   "interpreter": {
    "hash": "aed03a03cc7bd0e1fac5ca7542eb87a27ea54681acd81ac1d32f22d2188a3fc2"
   }
  }
 },
 "nbformat": 4,
 "nbformat_minor": 5
}
