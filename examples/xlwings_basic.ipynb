{
 "cells": [
  {
   "cell_type": "markdown",
   "id": "5a9a41a1",
   "metadata": {},
   "source": [
    "xlwings 基本用法"
   ]
  },
  {
   "cell_type": "markdown",
   "id": "fc71b745",
   "metadata": {},
   "source": [
    "import xlwings as xw\n",
    "\n",
    "wb = xw.Book()\n",
    "wb.sheets.add()"
   ]
  },
  {
   "cell_type": "code",
   "execution_count": 2,
   "id": "f62ea83a-65c3-44bb-8d5d-11f2a2da1df6",
   "metadata": {},
   "outputs": [
    {
     "data": {
      "text/plain": [
       "1.0"
      ]
     },
     "execution_count": 2,
     "metadata": {},
     "output_type": "execute_result"
    }
   ],
   "source": [
    "import xlwings as xw\n",
    "\n",
    "sheet = xw.Book().sheets[0]\n",
    "sheet.range('A1').value = 1\n",
    "sheet.range('A1').value"
   ]
  },
  {
   "cell_type": "code",
   "execution_count": 6,
   "id": "fee1714a",
   "metadata": {},
   "outputs": [],
   "source": [
    "import xlwings as xw\n",
    "\n",
    "file_path = \"to-tek-keng.xlsx\"\n",
    "wb = xw.Book(file_path)\n",
    "\n",
    "#-----------------------------------------------------\n",
    "sheet_name_list = [\"字庫表\", \"缺字表\", \"漢字注音表\"]\n",
    "\n",
    "# 刪除原有之工作表\n",
    "for sheet_name in sheet_name_list:\n",
    "    sheet = wb.sheets[sheet_name]\n",
    "    try:\n",
    "        sheet.select()\n",
    "        sheet.delete()\n",
    "    except: \n",
    "        # CommandError:\n",
    "        continue\n",
    "\n",
    "\n",
    "# 新增程式需使用之工作表\n",
    "ji_khoo_sheet  = wb.sheets.add(name=\"字庫表\")\n",
    "khiam_ji_sheet  = wb.sheets.add(name=\"缺字表\")\n",
    "chu_im_sheet = wb.sheets.add(name=\"漢字注音表\")\n"
   ]
  },
  {
   "cell_type": "code",
   "execution_count": 4,
   "id": "78b06aa8",
   "metadata": {},
   "outputs": [
    {
     "data": {
      "text/plain": [
       "<Sheet [活頁簿4]漢字注音表>"
      ]
     },
     "execution_count": 4,
     "metadata": {},
     "output_type": "execute_result"
    }
   ],
   "source": [
    "import xlwings as xw\n",
    "\n",
    "wb = xw.Book()\n",
    "wb.sheets.add()\n",
    "wb.sheets.add(name=\"字庫表\")\n",
    "wb.sheets.add(name=\"漢字注音表\")"
   ]
  },
  {
   "cell_type": "code",
   "execution_count": 2,
   "id": "68d38e4e-2827-4955-9ea5-885d4abc19a7",
   "metadata": {},
   "outputs": [
    {
     "data": {
      "text/plain": [
       "[1.0, 2.0, 3.0, 4.0, 5.0]"
      ]
     },
     "execution_count": 2,
     "metadata": {},
     "output_type": "execute_result"
    }
   ],
   "source": [
    "sheet = xw.Book().sheets[0]\n",
    "sheet.range('A1').value = [[1], [2], [3], [4], [5]]\n",
    "sheet.range('A1:A5').value"
   ]
  },
  {
   "cell_type": "code",
   "execution_count": null,
   "id": "c9f1eeb0-857a-4bdf-95a2-837d279a7484",
   "metadata": {},
   "outputs": [],
   "source": [
    "sheet.range('A1').value = [1, 2, 3, 4, 5]\n",
    "sheet.range('A1:E1').value"
   ]
  },
  {
   "cell_type": "code",
   "execution_count": 3,
   "id": "9e37d14e-d703-457e-aa5d-bca176d01a20",
   "metadata": {},
   "outputs": [],
   "source": [
    "sheet.range('A1').options(transpose=True).value = [1,2,3,4]"
   ]
  }
 ],
 "metadata": {
  "kernelspec": {
   "display_name": "Python 3.10.0 64-bit ('excel-3.10.0')",
   "language": "python",
   "name": "python3"
  },
  "language_info": {
   "codemirror_mode": {
    "name": "ipython",
    "version": 3
   },
   "file_extension": ".py",
   "mimetype": "text/x-python",
   "name": "python",
   "nbconvert_exporter": "python",
   "pygments_lexer": "ipython3",
   "version": "3.10.0"
  },
  "vscode": {
   "interpreter": {
    "hash": "1b569b8cb82cc0b4d93e64a81a8088d32bbb20998db3215c562e2469512179e8"
   }
  }
 },
 "nbformat": 4,
 "nbformat_minor": 5
}
